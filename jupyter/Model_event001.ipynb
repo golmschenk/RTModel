{
 "cells": [
  {
   "cell_type": "code",
   "id": "42a3aa04-f93b-4ec7-a3ad-bd088fea980e",
   "metadata": {
    "ExecuteTime": {
     "end_time": "2024-04-04T18:38:35.079757Z",
     "start_time": "2024-04-04T18:38:35.069520Z"
    }
   },
   "source": [
    "import RTModel"
   ],
   "outputs": [],
   "execution_count": 1
  },
  {
   "cell_type": "code",
   "id": "789ed4ce-0f74-4d29-8767-49f6ddc260ab",
   "metadata": {
    "ExecuteTime": {
     "end_time": "2024-04-04T18:39:29.817001Z",
     "start_time": "2024-04-04T18:39:29.812656Z"
    }
   },
   "source": [
    "rtm = RTModel.RTModel()"
   ],
   "outputs": [
    {
     "name": "stdout",
     "output_type": "stream",
     "text": [
      "*********************\n",
      "****   RTModel   ****\n",
      "*********************\n",
      "Number of processors: 10\n"
     ]
    }
   ],
   "execution_count": 11
  },
  {
   "cell_type": "code",
   "id": "aec7428b-6550-4e01-9098-fe239044047e",
   "metadata": {
    "ExecuteTime": {
     "end_time": "2024-04-04T18:41:26.923966Z",
     "start_time": "2024-04-04T18:41:26.920729Z"
    }
   },
   "source": [
    "from pathlib import Path\n",
    "eventname = Path('/Users/golmschenk/Code/RTModel/events/event001') # Remember to unzip the file event001.zip first!\n",
    "print(eventname.absolute())\n",
    "rtm.set_event(str(eventname))"
   ],
   "outputs": [
    {
     "name": "stdout",
     "output_type": "stream",
     "text": [
      "/Users/golmschenk/Code/RTModel/events/event001\n"
     ]
    }
   ],
   "execution_count": 18
  },
  {
   "cell_type": "code",
   "id": "e79523ad-2263-4db5-9e49-e770717c359c",
   "metadata": {
    "ExecuteTime": {
     "end_time": "2024-04-04T18:45:07.452852Z",
     "start_time": "2024-04-04T18:41:27.816718Z"
    }
   },
   "source": [
    "rtm.run()"
   ],
   "outputs": [
    {
     "name": "stdout",
     "output_type": "stream",
     "text": [
      "o Thu Apr  4 14:41:27 2024\n",
      "- Analyzing event:  /Users/golmschenk/Code/RTModel/events/event001\n",
      "o Thu Apr  4 14:41:27 2024\n",
      "- Launching: Reader\n",
      "  Pre-processing data...\n",
      "  OK\n",
      "o Thu Apr  4 14:41:28 2024\n",
      "- Launching: InitCond\n",
      "  Setting initial conditions...\n",
      "  OK\n",
      "o Thu Apr  4 14:41:28 2024\n",
      "- Single-lens-Single-source fits\n",
      "Fits completed: 100%|\u001B[32m██████████\u001B[0m| 60/60 [00:01<00:00, 40.29it/s]\n",
      "o Thu Apr  4 14:41:30 2024\n",
      "- Selecting models for Single-lens-Single-source fits\n",
      "  OK\n",
      "o Thu Apr  4 14:41:30 2024\n",
      "- Single-lens-Single-source fits with parallax\n",
      "Fits completed: 100%|\u001B[32m██████████\u001B[0m| 4/4 [00:00<00:00,  4.24it/s]\n",
      "o Thu Apr  4 14:41:31 2024\n",
      "- Selecting models for Single-lens-Single-source fits with parallax\n",
      "  OK\n",
      "o Thu Apr  4 14:41:31 2024\n",
      "- Single-lens-Binary-source fits\n",
      "Fits completed: 100%|\u001B[32m██████████\u001B[0m| 135/135 [00:05<00:00, 23.59it/s]\n",
      "o Thu Apr  4 14:41:37 2024\n",
      "- Selecting models for Single-lens-Binary-source fits\n",
      "  OK\n",
      "o Thu Apr  4 14:41:43 2024\n",
      "- Single-lens-Binary-source fits with xallarap\n",
      "Fits completed: 100%|\u001B[32m██████████\u001B[0m| 6/6 [00:00<00:00, 13.95it/s]\n",
      "o Thu Apr  4 14:41:43 2024\n",
      "- Selecting models for Single-lens-Binary-source fits with xallarap\n",
      "  OK\n",
      "o Thu Apr  4 14:41:43 2024\n",
      "- Binary-lens-Single-source fits\n",
      "Fits completed:   1%|\u001B[32m          \u001B[0m| 2/234 [02:54<5:37:50, 87.37s/it]  "
     ]
    },
    {
     "ename": "KeyboardInterrupt",
     "evalue": "",
     "output_type": "error",
     "traceback": [
      "\u001B[0;31m---------------------------------------------------------------------------\u001B[0m",
      "\u001B[0;31mKeyboardInterrupt\u001B[0m                         Traceback (most recent call last)",
      "Cell \u001B[0;32mIn[19], line 1\u001B[0m\n\u001B[0;32m----> 1\u001B[0m \u001B[43mrtm\u001B[49m\u001B[38;5;241;43m.\u001B[39;49m\u001B[43mrun\u001B[49m\u001B[43m(\u001B[49m\u001B[43m)\u001B[49m\n",
      "File \u001B[0;32m/opt/homebrew/Caskroom/mambaforge/base/envs/RTModel/lib/python3.11/site-packages/RTModel/RTModel.py:265\u001B[0m, in \u001B[0;36mRTModel.run\u001B[0;34m(self, event)\u001B[0m\n\u001B[1;32m    263\u001B[0m \u001B[38;5;66;03m# Launch LevMar for next class\u001B[39;00m\n\u001B[1;32m    264\u001B[0m \u001B[38;5;28;01melif\u001B[39;00m phase\u001B[38;5;241m%\u001B[39m\u001B[38;5;241m2\u001B[39m \u001B[38;5;241m==\u001B[39m \u001B[38;5;241m1\u001B[39m:\n\u001B[0;32m--> 265\u001B[0m     \u001B[38;5;28;43mself\u001B[39;49m\u001B[38;5;241;43m.\u001B[39;49m\u001B[43mlaunch_fits\u001B[49m\u001B[43m(\u001B[49m\u001B[38;5;28;43mself\u001B[39;49m\u001B[38;5;241;43m.\u001B[39;49m\u001B[43mmodelcodes\u001B[49m\u001B[43m[\u001B[49m\u001B[43mphase\u001B[49m\u001B[38;5;241;43m/\u001B[39;49m\u001B[38;5;241;43m/\u001B[39;49m\u001B[38;5;241;43m2\u001B[39;49m\u001B[38;5;241;43m-\u001B[39;49m\u001B[38;5;241;43m1\u001B[39;49m\u001B[43m]\u001B[49m\u001B[43m)\u001B[49m \n\u001B[1;32m    266\u001B[0m     phase \u001B[38;5;241m+\u001B[39m\u001B[38;5;241m=\u001B[39m \u001B[38;5;241m1\u001B[39m            \n\u001B[1;32m    267\u001B[0m \u001B[38;5;66;03m# Launch ModelSelector for this class\u001B[39;00m\n\u001B[1;32m    268\u001B[0m \u001B[38;5;28;01melse\u001B[39;00m:\n",
      "File \u001B[0;32m/opt/homebrew/Caskroom/mambaforge/base/envs/RTModel/lib/python3.11/site-packages/RTModel/RTModel.py:187\u001B[0m, in \u001B[0;36mRTModel.launch_fits\u001B[0;34m(self, modelcode)\u001B[0m\n\u001B[1;32m    185\u001B[0m             pbar\u001B[38;5;241m.\u001B[39mupdate(finitcond \u001B[38;5;241m-\u001B[39m \u001B[38;5;28mmax\u001B[39m(finitcondold,\u001B[38;5;241m0\u001B[39m))\n\u001B[1;32m    186\u001B[0m             finitcondold \u001B[38;5;241m=\u001B[39mfinitcond\n\u001B[0;32m--> 187\u001B[0m         \u001B[43mtime\u001B[49m\u001B[38;5;241;43m.\u001B[39;49m\u001B[43msleep\u001B[49m\u001B[43m(\u001B[49m\u001B[38;5;241;43m0.1\u001B[39;49m\u001B[43m)\u001B[49m\n\u001B[1;32m    188\u001B[0m     pbar\u001B[38;5;241m.\u001B[39mclose()\n\u001B[1;32m    189\u001B[0m \u001B[38;5;28;01melse\u001B[39;00m:\n",
      "\u001B[0;31mKeyboardInterrupt\u001B[0m: "
     ]
    }
   ],
   "execution_count": 19
  },
  {
   "cell_type": "code",
   "execution_count": null,
   "id": "98a3fc46-e5b6-45fa-b680-8d54f8489959",
   "metadata": {},
   "outputs": [],
   "source": [
    "import RTModel.plotmodel as plm"
   ]
  },
  {
   "cell_type": "code",
   "execution_count": null,
   "id": "fd1ddcc9-6976-46bc-a429-b8cd291cc0f1",
   "metadata": {},
   "outputs": [],
   "source": [
    "plm.plotmodel(eventname = eventname,modelfile = 'Models/PS0032-1.txt')"
   ]
  },
  {
   "cell_type": "code",
   "execution_count": null,
   "id": "6d5011fe-8ccd-43dc-81d1-7ecbf172afa4",
   "metadata": {},
   "outputs": [],
   "source": []
  }
 ],
 "metadata": {
  "kernelspec": {
   "display_name": "Python 3 (ipykernel)",
   "language": "python",
   "name": "python3"
  },
  "language_info": {
   "codemirror_mode": {
    "name": "ipython",
    "version": 3
   },
   "file_extension": ".py",
   "mimetype": "text/x-python",
   "name": "python",
   "nbconvert_exporter": "python",
   "pygments_lexer": "ipython3",
   "version": "3.11.8"
  }
 },
 "nbformat": 4,
 "nbformat_minor": 5
}
